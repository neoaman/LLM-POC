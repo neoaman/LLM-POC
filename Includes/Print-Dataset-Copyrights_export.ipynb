{
 "cells": [
  {
   "cell_type": "code",
   "execution_count": null,
   "id": "3ebb08e5",
   "metadata": {
    "collapsed": false
   },
   "outputs": [],
   "source": [
    "# Increase compatibility with Databricks\n",
    "from IPython.display import display as idisplay, HTML\n",
    "displayHTML = lambda x: idisplay(HTML(x))\n",
    "def display(*args, **kargs): pass"
   ]
  },
  {
   "cell_type": "code",
   "execution_count": null,
   "id": "283ba6b6",
   "metadata": {
    "collapsed": false
   },
   "outputs": [],
   "source": [
    "%run ./_common"
   ]
  },
  {
   "cell_type": "code",
   "execution_count": null,
   "id": "22b4b6fd",
   "metadata": {
    "collapsed": false
   },
   "outputs": [],
   "source": [
    "lesson_config.create_schema = False                 # We don't need a schema when simply printing the copyrights\n",
    "\n",
    "DA = DBAcademyHelper(course_config, lesson_config)  # Create the DA object\n",
    "DA.reset_lesson()                                   # Reset the lesson to a clean state\n",
    "DA.init()                                           # Performs basic intialization including creating schemas and catalogs\n",
    "DA.conclude_setup()                                 # Finalizes the state and prints the config for the student"
   ]
  },
  {
   "cell_type": "code",
   "execution_count": null,
   "id": "4b677b6c",
   "metadata": {
    "collapsed": false
   },
   "outputs": [],
   "source": [
    "# Once initialized, just print the copyrights\n",
    "DA.print_copyrights()"
   ]
  }
 ],
 "metadata": {},
 "nbformat": 4,
 "nbformat_minor": 5
}
