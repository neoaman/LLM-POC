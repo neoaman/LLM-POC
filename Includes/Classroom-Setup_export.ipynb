{
 "cells": [
  {
   "cell_type": "code",
   "execution_count": null,
   "id": "77234482",
   "metadata": {
    "collapsed": false
   },
   "outputs": [],
   "source": [
    "# Increase compatibility with Databricks\n",
    "from IPython.display import display as idisplay, HTML\n",
    "displayHTML = lambda x: idisplay(HTML(x))\n",
    "def display(*args, **kargs): pass"
   ]
  },
  {
   "cell_type": "code",
   "execution_count": null,
   "id": "bfbe297f",
   "metadata": {
    "collapsed": false
   },
   "outputs": [],
   "source": [
    "%run ./_common"
   ]
  },
  {
   "cell_type": "code",
   "execution_count": null,
   "id": "1d5a3d09",
   "metadata": {
    "collapsed": false
   },
   "outputs": [],
   "source": [
    "DA = DBAcademyHelper(course_config, lesson_config)  # Create the DA object\n",
    "DA.reset_lesson()                                   # Reset the lesson to a clean state\n",
    "DA.init()                                           # Performs basic intialization including creating schemas and catalogs\n",
    "\n",
    "DA.paths.working_dir = DA.paths.to_vm_path(DA.paths.working_dir)\n",
    "DA.paths.datasets = DA.paths.to_vm_path(DA.paths.datasets)\n",
    "DA.paths.user_db = DA.paths.to_vm_path(DA.paths.user_db)"
   ]
  },
  {
   "cell_type": "code",
   "execution_count": null,
   "id": "019210b7",
   "metadata": {
    "collapsed": false
   },
   "outputs": [],
   "source": [
    "%run ./Test-Framework"
   ]
  },
  {
   "cell_type": "code",
   "execution_count": null,
   "id": "8a0855bd",
   "metadata": {
    "collapsed": false
   },
   "outputs": [],
   "source": [
    "DA.conclude_setup()                                 # Finalizes the state and prints the config for the student\n",
    "\n",
    "print(\"\\nThe models developed or used in this course are for demonstration and learning purposes only.\\nModels may occasionally output offensive, inaccurate, biased information, or harmful instructions.\")"
   ]
  }
 ],
 "metadata": {},
 "nbformat": 4,
 "nbformat_minor": 5
}
