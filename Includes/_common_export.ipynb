{
 "cells": [
  {
   "cell_type": "code",
   "execution_count": null,
   "id": "946ec5ea",
   "metadata": {
    "collapsed": false
   },
   "outputs": [],
   "source": [
    "# Increase compatibility with Databricks\n",
    "from IPython.display import display as idisplay, HTML\n",
    "displayHTML = lambda x: idisplay(HTML(x))\n",
    "def display(*args, **kargs): pass"
   ]
  },
  {
   "cell_type": "code",
   "execution_count": null,
   "id": "66a3cd68",
   "metadata": {
    "collapsed": false
   },
   "outputs": [],
   "source": [
    "def __validate_libraries():\n",
    "    import requests\n",
    "    try:\n",
    "        site = \"https://github.com/databricks-academy/dbacademy\"\n",
    "        response = requests.get(site)\n",
    "        error = f\"Unable to access GitHub or PyPi resources (HTTP {response.status_code} for {site}).\"\n",
    "        assert response.status_code == 200, \"{error} Please see the \\\"Troubleshooting | {section}\\\" section of the \\\"Version Info\\\" notebook for more information.\".format(error=error, section=\"Cannot Install Libraries\")\n",
    "    except Exception as e:\n",
    "        if type(e) is AssertionError: raise e\n",
    "        error = f\"Unable to access GitHub or PyPi resources ({site}).\"\n",
    "        raise AssertionError(\"{error} Please see the \\\"Troubleshooting | {section}\\\" section of the \\\"Version Info\\\" notebook for more information.\".format(error=error, section=\"Cannot Install Libraries\")) from e\n",
    "\n",
    "def __install_libraries():\n",
    "    global pip_command\n",
    "    \n",
    "    specified_version = f\"v4.0.9\"\n",
    "    key = \"dbacademy.library.version\"\n",
    "    version = spark.conf.get(key, specified_version)\n",
    "\n",
    "    if specified_version != version:\n",
    "        print(\"** Dependency Version Overridden *******************************************************************\")\n",
    "        print(f\"* This course was built for {specified_version} of the DBAcademy Library, but it is being overridden via the Spark\")\n",
    "        print(f\"* configuration variable \\\"{key}\\\". The use of version v4.0.9 is not advised as we\")\n",
    "        print(f\"* cannot guarantee compatibility with this version of the course.\")\n",
    "        print(\"****************************************************************************************************\")\n",
    "\n",
    "    try:\n",
    "        from dbacademy import dbgems  \n",
    "        installed_version = dbgems.lookup_current_module_version(\"dbacademy\")\n",
    "        if installed_version == version:\n",
    "            pip_command = \"list --quiet\"  # Skipping pip install of pre-installed python library\n",
    "        else:\n",
    "            print(f\"WARNING: The wrong version of dbacademy is attached to this cluster. Expected {version}, found {installed_version}.\")\n",
    "            print(f\"Installing the correct version.\")\n",
    "            raise Exception(\"Forcing re-install\")\n",
    "\n",
    "    except Exception as e:\n",
    "        # The import fails if library is not attached to cluster\n",
    "        if not version.startswith(\"v\"): library_url = f\"git+https://github.com/databricks-academy/dbacademy@{version}\"\n",
    "        else: library_url = f\"https://github.com/databricks-academy/dbacademy/releases/download/{version}/dbacademy-{version[1:]}-py3-none-any.whl\"\n",
    "\n",
    "        default_command = f\"install --quiet --disable-pip-version-check {library_url}\"\n",
    "        pip_command = spark.conf.get(\"dbacademy.library.install\", default_command)\n",
    "\n",
    "        if pip_command != default_command:\n",
    "            print(f\"WARNING: Using alternative library installation:\\n| default: %pip {default_command}\\n| current: %pip {pip_command}\")\n",
    "        else:\n",
    "            # We are using the default libraries; next we need to verify that we can reach those libraries.\n",
    "            __validate_libraries()\n",
    "\n",
    "__install_libraries()"
   ]
  },
  {
   "cell_type": "code",
   "execution_count": null,
   "id": "6eb81172",
   "metadata": {
    "collapsed": false
   },
   "outputs": [],
   "source": [
    "%pip $pip_command"
   ]
  },
  {
   "cell_type": "code",
   "execution_count": null,
   "id": "c8840e3f",
   "metadata": {
    "collapsed": false
   },
   "outputs": [],
   "source": [
    "from dbacademy import dbgems\n",
    "from dbacademy.dbhelper import DBAcademyHelper, Paths, CourseConfig, LessonConfig\n",
    "\n",
    "course_config = CourseConfig(course_code = \"llm\",\n",
    "                             course_name = \"large-language-models\",\n",
    "                             data_source_version = \"v03\",\n",
    "                             install_min_time = \"15 min\",\n",
    "                             install_max_time = \"60 min\",\n",
    "                             supported_dbrs = [\"13.3.x-cpu-ml-scala2.12\", \"13.3.x-gpu-ml-scala2.12\"],\n",
    "                             expected_dbrs = \"13.3.x-cpu-ml-scala2.12, 13.3.x-gpu-ml-scala2.12\")\n",
    "\n",
    "\n",
    "lesson_config = LessonConfig(name = None,\n",
    "                             create_schema = False,\n",
    "                             create_catalog = False,\n",
    "                             requires_uc = False,\n",
    "                             installing_datasets = True,\n",
    "                             enable_streaming_support = False,\n",
    "                             enable_ml_support = True)"
   ]
  }
 ],
 "metadata": {},
 "nbformat": 4,
 "nbformat_minor": 5
}
