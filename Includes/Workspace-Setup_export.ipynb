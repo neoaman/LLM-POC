{
 "cells": [
  {
   "cell_type": "code",
   "execution_count": null,
   "id": "c13071eb",
   "metadata": {
    "collapsed": false
   },
   "outputs": [],
   "source": [
    "# Increase compatibility with Databricks\n",
    "from IPython.display import display as idisplay, HTML\n",
    "displayHTML = lambda x: idisplay(HTML(x))\n",
    "def display(*args, **kargs): pass"
   ]
  },
  {
   "cell_type": "markdown",
   "id": "4c131bb0",
   "metadata": {},
   "source": [
    "-sandbox\n",
    "# Run the Universal-Workspace-Setup Job\n",
    "This will dispatch to the UWS to provide a standard configuration for all labs.\n",
    "\n",
    "<span style=\"font-weight:bold; color:red\">WARNING</span>: Running this notebook is <b>no longer required</b> and may actually break your learning environment if executed. This is included here only for testing purposes."
   ]
  },
  {
   "cell_type": "code",
   "execution_count": null,
   "id": "5642f521",
   "metadata": {
    "collapsed": false
   },
   "outputs": [],
   "source": [
    "%run ./_common"
   ]
  },
  {
   "cell_type": "code",
   "execution_count": null,
   "id": "88869bc1",
   "metadata": {
    "collapsed": false
   },
   "outputs": [],
   "source": [
    "from dbacademy.dbhelper.universal_worskpace_setup_runner import UniversalWorkspaceSetupRunner\n",
    "\n",
    "runner = UniversalWorkspaceSetupRunner(\n",
    "    token=dbutils.notebook.entry_point.getDbutils().notebook().getContext().apiToken().getOrElse(None),\n",
    "    endpoint=dbutils.notebook.entry_point.getDbutils().notebook().getContext().apiUrl().getOrElse(None),\n",
    "    course_config=course_config,\n",
    "    workspace_name=sc.getConf().get(\"spark.databricks.workspaceUrl\", defaultValue=\"Unknown\")\n",
    ")\n",
    "\n",
    "runner.run()"
   ]
  },
  {
   "cell_type": "markdown",
   "id": "e5b56ca0",
   "metadata": {},
   "source": [
    "# Install Datasets\n",
    "The current version of the UWS won't install user-specific datasets yest so this is a hack to force it to install before moving to round #2 tests that will install the user-specific datasets, but fail the tests due to their asyncrounus nature."
   ]
  },
  {
   "cell_type": "code",
   "execution_count": null,
   "id": "f1eee085",
   "metadata": {
    "collapsed": false
   },
   "outputs": [],
   "source": [
    "DA = DBAcademyHelper(course_config, lesson_config)  # Create the DA object\n",
    "DA.reset_lesson()                                   # Reset the lesson to a clean state\n",
    "DA.init()                                           # Performs basic intialization including creating schemas and catalogs\n",
    "DA.conclude_setup()                                 # Finalizes the state and prints the config for the student"
   ]
  }
 ],
 "metadata": {},
 "nbformat": 4,
 "nbformat_minor": 5
}
